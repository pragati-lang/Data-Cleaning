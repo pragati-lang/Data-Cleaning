{
 "cells": [
  {
   "cell_type": "markdown",
   "id": "4050b463",
   "metadata": {
    "papermill": {
     "duration": 0.012464,
     "end_time": "2021-08-08T08:19:32.656765",
     "exception": false,
     "start_time": "2021-08-08T08:19:32.644301",
     "status": "completed"
    },
    "tags": []
   },
   "source": [
    "**This notebook is an exercise in the [Data Cleaning](https://www.kaggle.com/learn/data-cleaning) course.  You can reference the tutorial at [this link](https://www.kaggle.com/alexisbcook/inconsistent-data-entry).**\n",
    "\n",
    "---\n"
   ]
  },
  {
   "cell_type": "markdown",
   "id": "65f48464",
   "metadata": {
    "papermill": {
     "duration": 0.01103,
     "end_time": "2021-08-08T08:19:32.679540",
     "exception": false,
     "start_time": "2021-08-08T08:19:32.668510",
     "status": "completed"
    },
    "tags": []
   },
   "source": [
    "In this exercise, you'll apply what you learned in the **Inconsistent data entry** tutorial.\n",
    "\n",
    "# Setup\n",
    "\n",
    "The questions below will give you feedback on your work. Run the following cell to set up the feedback system."
   ]
  },
  {
   "cell_type": "code",
   "execution_count": 1,
   "id": "072b6656",
   "metadata": {
    "execution": {
     "iopub.execute_input": "2021-08-08T08:19:32.706501Z",
     "iopub.status.busy": "2021-08-08T08:19:32.705443Z",
     "iopub.status.idle": "2021-08-08T08:19:32.903607Z",
     "shell.execute_reply": "2021-08-08T08:19:32.902994Z",
     "shell.execute_reply.started": "2021-08-06T15:52:22.527303Z"
    },
    "papermill": {
     "duration": 0.212849,
     "end_time": "2021-08-08T08:19:32.903793",
     "exception": false,
     "start_time": "2021-08-08T08:19:32.690944",
     "status": "completed"
    },
    "tags": []
   },
   "outputs": [
    {
     "name": "stdout",
     "output_type": "stream",
     "text": [
      "Setup Complete\n"
     ]
    }
   ],
   "source": [
    "from learntools.core import binder\n",
    "binder.bind(globals())\n",
    "from learntools.data_cleaning.ex5 import *\n",
    "print(\"Setup Complete\")"
   ]
  },
  {
   "cell_type": "markdown",
   "id": "cd503c31",
   "metadata": {
    "papermill": {
     "duration": 0.01128,
     "end_time": "2021-08-08T08:19:32.927814",
     "exception": false,
     "start_time": "2021-08-08T08:19:32.916534",
     "status": "completed"
    },
    "tags": []
   },
   "source": [
    "# Get our environment set up\n",
    "\n",
    "The first thing we'll need to do is load in the libraries and dataset we'll be using.  We use the same dataset from the tutorial."
   ]
  },
  {
   "cell_type": "code",
   "execution_count": 2,
   "id": "adb04d0b",
   "metadata": {
    "execution": {
     "iopub.execute_input": "2021-08-08T08:19:32.961306Z",
     "iopub.status.busy": "2021-08-08T08:19:32.960632Z",
     "iopub.status.idle": "2021-08-08T08:19:32.975840Z",
     "shell.execute_reply": "2021-08-08T08:19:32.976795Z",
     "shell.execute_reply.started": "2021-08-06T15:52:37.756375Z"
    },
    "papermill": {
     "duration": 0.03686,
     "end_time": "2021-08-08T08:19:32.977062",
     "exception": false,
     "start_time": "2021-08-08T08:19:32.940202",
     "status": "completed"
    },
    "tags": []
   },
   "outputs": [],
   "source": [
    "# modules we'll use\n",
    "import pandas as pd\n",
    "import numpy as np\n",
    "\n",
    "# helpful modules\n",
    "import fuzzywuzzy\n",
    "from fuzzywuzzy import process\n",
    "import chardet\n",
    "\n",
    "# read in all our data\n",
    "professors = pd.read_csv(\"../input/pakistan-intellectual-capital/pakistan_intellectual_capital.csv\")\n",
    "\n",
    "# set seed for reproducibility\n",
    "np.random.seed(0)"
   ]
  },
  {
   "cell_type": "markdown",
   "id": "aa59f82f",
   "metadata": {
    "papermill": {
     "duration": 0.012276,
     "end_time": "2021-08-08T08:19:33.004560",
     "exception": false,
     "start_time": "2021-08-08T08:19:32.992284",
     "status": "completed"
    },
    "tags": []
   },
   "source": [
    "Next, we'll redo all of the work that we did in the tutorial."
   ]
  },
  {
   "cell_type": "code",
   "execution_count": 3,
   "id": "a01be057",
   "metadata": {
    "execution": {
     "iopub.execute_input": "2021-08-08T08:19:33.036142Z",
     "iopub.status.busy": "2021-08-08T08:19:33.035545Z",
     "iopub.status.idle": "2021-08-08T08:19:33.048174Z",
     "shell.execute_reply": "2021-08-08T08:19:33.048848Z",
     "shell.execute_reply.started": "2021-08-06T15:52:48.967352Z"
    },
    "papermill": {
     "duration": 0.028771,
     "end_time": "2021-08-08T08:19:33.049075",
     "exception": false,
     "start_time": "2021-08-08T08:19:33.020304",
     "status": "completed"
    },
    "tags": []
   },
   "outputs": [
    {
     "name": "stdout",
     "output_type": "stream",
     "text": [
      "All done!\n"
     ]
    }
   ],
   "source": [
    "# convert to lower case\n",
    "professors['Country'] = professors['Country'].str.lower()\n",
    "# remove trailing white spaces\n",
    "professors['Country'] = professors['Country'].str.strip()\n",
    "\n",
    "# get the top 10 closest matches to \"south korea\"\n",
    "countries = professors['Country'].unique()\n",
    "matches = fuzzywuzzy.process.extract(\"south korea\", countries, limit=10, scorer=fuzzywuzzy.fuzz.token_sort_ratio)\n",
    "\n",
    "def replace_matches_in_column(df, column, string_to_match, min_ratio = 47):\n",
    "    # get a list of unique strings\n",
    "    strings = df[column].unique()\n",
    "    \n",
    "    # get the top 10 closest matches to our input string\n",
    "    matches = fuzzywuzzy.process.extract(string_to_match, strings, \n",
    "                                         limit=10, scorer=fuzzywuzzy.fuzz.token_sort_ratio)\n",
    "\n",
    "    # only get matches with a ratio > 90\n",
    "    close_matches = [matches[0] for matches in matches if matches[1] >= min_ratio]\n",
    "\n",
    "    # get the rows of all the close matches in our dataframe\n",
    "    rows_with_matches = df[column].isin(close_matches)\n",
    "\n",
    "    # replace all rows with close matches with the input matches \n",
    "    df.loc[rows_with_matches, column] = string_to_match\n",
    "    \n",
    "    # let us know the function's done\n",
    "    print(\"All done!\")\n",
    "    \n",
    "replace_matches_in_column(df=professors, column='Country', string_to_match=\"south korea\")\n",
    "countries = professors['Country'].unique()"
   ]
  },
  {
   "cell_type": "markdown",
   "id": "cfc8bb65",
   "metadata": {
    "papermill": {
     "duration": 0.011868,
     "end_time": "2021-08-08T08:19:33.073728",
     "exception": false,
     "start_time": "2021-08-08T08:19:33.061860",
     "status": "completed"
    },
    "tags": []
   },
   "source": [
    "# 1) Examine another column\n",
    "\n",
    "Write code below to take a look at all the unique values in the \"Graduated from\" column."
   ]
  },
  {
   "cell_type": "code",
   "execution_count": 4,
   "id": "8b9f9ac7",
   "metadata": {
    "execution": {
     "iopub.execute_input": "2021-08-08T08:19:33.102460Z",
     "iopub.status.busy": "2021-08-08T08:19:33.101877Z",
     "iopub.status.idle": "2021-08-08T08:19:33.104902Z",
     "shell.execute_reply": "2021-08-08T08:19:33.104317Z",
     "shell.execute_reply.started": "2021-08-06T15:54:41.707354Z"
    },
    "papermill": {
     "duration": 0.019405,
     "end_time": "2021-08-08T08:19:33.105035",
     "exception": false,
     "start_time": "2021-08-08T08:19:33.085630",
     "status": "completed"
    },
    "tags": []
   },
   "outputs": [],
   "source": [
    "unis = professors['Graduated from'].unique()# TODO: Your code here"
   ]
  },
  {
   "cell_type": "markdown",
   "id": "8f23d1a9",
   "metadata": {
    "papermill": {
     "duration": 0.011494,
     "end_time": "2021-08-08T08:19:33.128539",
     "exception": false,
     "start_time": "2021-08-08T08:19:33.117045",
     "status": "completed"
    },
    "tags": []
   },
   "source": [
    "Do you notice any inconsistencies in the data?  Can any of the inconsistencies in the data be fixed by removing white spaces at the beginning and end of cells?\n",
    "\n",
    "Once you have answered these questions, run the code cell below to get credit for your work."
   ]
  },
  {
   "cell_type": "code",
   "execution_count": 5,
   "id": "c820b6d8",
   "metadata": {
    "execution": {
     "iopub.execute_input": "2021-08-08T08:19:33.159972Z",
     "iopub.status.busy": "2021-08-08T08:19:33.159268Z",
     "iopub.status.idle": "2021-08-08T08:19:33.164867Z",
     "shell.execute_reply": "2021-08-08T08:19:33.165367Z",
     "shell.execute_reply.started": "2021-08-06T15:54:45.786461Z"
    },
    "papermill": {
     "duration": 0.025184,
     "end_time": "2021-08-08T08:19:33.165535",
     "exception": false,
     "start_time": "2021-08-08T08:19:33.140351",
     "status": "completed"
    },
    "tags": []
   },
   "outputs": [
    {
     "data": {
      "application/javascript": [
       "parent.postMessage({\"jupyterEvent\": \"custom.exercise_interaction\", \"data\": {\"outcomeType\": 1, \"valueTowardsCompletion\": 0.3333333333333333, \"interactionType\": 1, \"questionType\": 4, \"questionId\": \"1_ExamineProvince\", \"learnToolsVersion\": \"0.3.4\", \"failureMessage\": \"\", \"exceptionClass\": \"\", \"trace\": \"\"}}, \"*\")"
      ],
      "text/plain": [
       "<IPython.core.display.Javascript object>"
      ]
     },
     "metadata": {},
     "output_type": "display_data"
    },
    {
     "data": {
      "text/markdown": [
       "<span style=\"color:#33cc33\">Correct:</span> \n",
       "\n",
       "There are inconsistencies that can be fixed by removing white spaces at the beginning and end of cells.  For instance, \"University of Central Florida\" and \" University of Central Florida\" both appear in the column."
      ],
      "text/plain": [
       "Correct: \n",
       "\n",
       "There are inconsistencies that can be fixed by removing white spaces at the beginning and end of cells.  For instance, \"University of Central Florida\" and \" University of Central Florida\" both appear in the column."
      ]
     },
     "metadata": {},
     "output_type": "display_data"
    }
   ],
   "source": [
    "# Check your answer (Run this code cell to receive credit!)\n",
    "q1.check()"
   ]
  },
  {
   "cell_type": "code",
   "execution_count": 6,
   "id": "dd4a3ff4",
   "metadata": {
    "execution": {
     "iopub.execute_input": "2021-08-08T08:19:33.197666Z",
     "iopub.status.busy": "2021-08-08T08:19:33.196893Z",
     "iopub.status.idle": "2021-08-08T08:19:33.202040Z",
     "shell.execute_reply": "2021-08-08T08:19:33.202478Z",
     "shell.execute_reply.started": "2021-08-06T15:54:10.245791Z"
    },
    "papermill": {
     "duration": 0.023597,
     "end_time": "2021-08-08T08:19:33.202679",
     "exception": false,
     "start_time": "2021-08-08T08:19:33.179082",
     "status": "completed"
    },
    "tags": []
   },
   "outputs": [
    {
     "data": {
      "application/javascript": [
       "parent.postMessage({\"jupyterEvent\": \"custom.exercise_interaction\", \"data\": {\"interactionType\": 2, \"questionType\": 4, \"questionId\": \"1_ExamineProvince\", \"learnToolsVersion\": \"0.3.4\", \"valueTowardsCompletion\": 0.0, \"failureMessage\": \"\", \"exceptionClass\": \"\", \"trace\": \"\", \"outcomeType\": 4}}, \"*\")"
      ],
      "text/plain": [
       "<IPython.core.display.Javascript object>"
      ]
     },
     "metadata": {},
     "output_type": "display_data"
    },
    {
     "data": {
      "text/markdown": [
       "<span style=\"color:#3366cc\">Hint:</span> Use `unis = professors['Graduated from'].unique()` to take a look at the unique values in the 'Graduated from' column. You may find it useful to sort the data before printing it."
      ],
      "text/plain": [
       "Hint: Use `unis = professors['Graduated from'].unique()` to take a look at the unique values in the 'Graduated from' column. You may find it useful to sort the data before printing it."
      ]
     },
     "metadata": {},
     "output_type": "display_data"
    }
   ],
   "source": [
    "# Line below will give you a hint\n",
    "q1.hint()"
   ]
  },
  {
   "cell_type": "markdown",
   "id": "3d3a9315",
   "metadata": {
    "papermill": {
     "duration": 0.013188,
     "end_time": "2021-08-08T08:19:33.229715",
     "exception": false,
     "start_time": "2021-08-08T08:19:33.216527",
     "status": "completed"
    },
    "tags": []
   },
   "source": [
    "# 2) Do some text pre-processing\n",
    "\n",
    "Convert every entry in the \"Graduated from\" column in the `professors` DataFrame to remove white spaces at the beginning and end of cells."
   ]
  },
  {
   "cell_type": "code",
   "execution_count": 7,
   "id": "a7dc3a62",
   "metadata": {
    "execution": {
     "iopub.execute_input": "2021-08-08T08:19:33.259908Z",
     "iopub.status.busy": "2021-08-08T08:19:33.258989Z",
     "iopub.status.idle": "2021-08-08T08:19:33.269134Z",
     "shell.execute_reply": "2021-08-08T08:19:33.269631Z",
     "shell.execute_reply.started": "2021-08-06T15:56:00.169658Z"
    },
    "papermill": {
     "duration": 0.026755,
     "end_time": "2021-08-08T08:19:33.269806",
     "exception": false,
     "start_time": "2021-08-08T08:19:33.243051",
     "status": "completed"
    },
    "tags": []
   },
   "outputs": [
    {
     "data": {
      "application/javascript": [
       "parent.postMessage({\"jupyterEvent\": \"custom.exercise_interaction\", \"data\": {\"outcomeType\": 1, \"valueTowardsCompletion\": 0.3333333333333333, \"interactionType\": 1, \"questionType\": 1, \"questionId\": \"2_TextProcessing\", \"learnToolsVersion\": \"0.3.4\", \"failureMessage\": \"\", \"exceptionClass\": \"\", \"trace\": \"\"}}, \"*\")"
      ],
      "text/plain": [
       "<IPython.core.display.Javascript object>"
      ]
     },
     "metadata": {},
     "output_type": "display_data"
    },
    {
     "data": {
      "text/markdown": [
       "<span style=\"color:#33cc33\">Correct</span>"
      ],
      "text/plain": [
       "Correct"
      ]
     },
     "metadata": {},
     "output_type": "display_data"
    }
   ],
   "source": [
    "# TODO: Your code here\n",
    "professors['Graduated from'] = professors['Graduated from'].str.strip()\n",
    "\n",
    "# Check your answer\n",
    "q2.check()"
   ]
  },
  {
   "cell_type": "code",
   "execution_count": 8,
   "id": "b24399a7",
   "metadata": {
    "execution": {
     "iopub.execute_input": "2021-08-08T08:19:33.305508Z",
     "iopub.status.busy": "2021-08-08T08:19:33.304517Z",
     "iopub.status.idle": "2021-08-08T08:19:33.316706Z",
     "shell.execute_reply": "2021-08-08T08:19:33.315996Z",
     "shell.execute_reply.started": "2021-08-06T15:55:26.856715Z"
    },
    "papermill": {
     "duration": 0.032384,
     "end_time": "2021-08-08T08:19:33.316911",
     "exception": false,
     "start_time": "2021-08-08T08:19:33.284527",
     "status": "completed"
    },
    "tags": []
   },
   "outputs": [
    {
     "data": {
      "application/javascript": [
       "parent.postMessage({\"jupyterEvent\": \"custom.exercise_interaction\", \"data\": {\"interactionType\": 2, \"questionType\": 1, \"questionId\": \"2_TextProcessing\", \"learnToolsVersion\": \"0.3.4\", \"valueTowardsCompletion\": 0.0, \"failureMessage\": \"\", \"exceptionClass\": \"\", \"trace\": \"\", \"outcomeType\": 4}}, \"*\")"
      ],
      "text/plain": [
       "<IPython.core.display.Javascript object>"
      ]
     },
     "metadata": {},
     "output_type": "display_data"
    },
    {
     "data": {
      "text/markdown": [
       "<span style=\"color:#3366cc\">Hint:</span> In the tutorial, you did the same operation on a different column."
      ],
      "text/plain": [
       "Hint: In the tutorial, you did the same operation on a different column."
      ]
     },
     "metadata": {},
     "output_type": "display_data"
    },
    {
     "data": {
      "application/javascript": [
       "parent.postMessage({\"jupyterEvent\": \"custom.exercise_interaction\", \"data\": {\"interactionType\": 3, \"questionType\": 1, \"questionId\": \"2_TextProcessing\", \"learnToolsVersion\": \"0.3.4\", \"valueTowardsCompletion\": 0.0, \"failureMessage\": \"\", \"exceptionClass\": \"\", \"trace\": \"\", \"outcomeType\": 4}}, \"*\")"
      ],
      "text/plain": [
       "<IPython.core.display.Javascript object>"
      ]
     },
     "metadata": {},
     "output_type": "display_data"
    },
    {
     "data": {
      "text/markdown": [
       "<span style=\"color:#33cc99\">Solution:</span> \n",
       "```python\n",
       "professors['Graduated from'] = professors['Graduated from'].str.strip()\n",
       "\n",
       "```"
      ],
      "text/plain": [
       "Solution: \n",
       "```python\n",
       "professors['Graduated from'] = professors['Graduated from'].str.strip()\n",
       "\n",
       "```"
      ]
     },
     "metadata": {},
     "output_type": "display_data"
    }
   ],
   "source": [
    "# Lines below will give you a hint or solution code\n",
    "q2.hint()\n",
    "q2.solution()"
   ]
  },
  {
   "cell_type": "markdown",
   "id": "f2bcf906",
   "metadata": {
    "papermill": {
     "duration": 0.019269,
     "end_time": "2021-08-08T08:19:33.355186",
     "exception": false,
     "start_time": "2021-08-08T08:19:33.335917",
     "status": "completed"
    },
    "tags": []
   },
   "source": [
    "# 3) Continue working with countries\n",
    "\n",
    "In the tutorial, we focused on cleaning up inconsistencies in the \"Country\" column.  Run the code cell below to view the list of unique values that we ended with."
   ]
  },
  {
   "cell_type": "code",
   "execution_count": 9,
   "id": "b8da54b6",
   "metadata": {
    "execution": {
     "iopub.execute_input": "2021-08-08T08:19:33.391689Z",
     "iopub.status.busy": "2021-08-08T08:19:33.390992Z",
     "iopub.status.idle": "2021-08-08T08:19:33.400989Z",
     "shell.execute_reply": "2021-08-08T08:19:33.401445Z",
     "shell.execute_reply.started": "2021-08-06T15:56:29.797428Z"
    },
    "papermill": {
     "duration": 0.03021,
     "end_time": "2021-08-08T08:19:33.401636",
     "exception": false,
     "start_time": "2021-08-08T08:19:33.371426",
     "status": "completed"
    },
    "tags": []
   },
   "outputs": [
    {
     "data": {
      "text/plain": [
       "array(['australia', 'austria', 'canada', 'china', 'finland', 'france',\n",
       "       'germany', 'greece', 'hongkong', 'ireland', 'italy', 'japan',\n",
       "       'macau', 'malaysia', 'mauritius', 'netherland', 'new zealand',\n",
       "       'norway', 'pakistan', 'portugal', 'russian federation',\n",
       "       'saudi arabia', 'scotland', 'singapore', 'south korea', 'spain',\n",
       "       'sweden', 'thailand', 'turkey', 'uk', 'urbana', 'usa', 'usofa'],\n",
       "      dtype=object)"
      ]
     },
     "execution_count": 9,
     "metadata": {},
     "output_type": "execute_result"
    }
   ],
   "source": [
    "# get all the unique values in the 'City' column\n",
    "countries = professors['Country'].unique()\n",
    "\n",
    "# sort them alphabetically and then take a closer look\n",
    "countries.sort()\n",
    "countries"
   ]
  },
  {
   "cell_type": "markdown",
   "id": "a7298b31",
   "metadata": {
    "papermill": {
     "duration": 0.015785,
     "end_time": "2021-08-08T08:19:33.434975",
     "exception": false,
     "start_time": "2021-08-08T08:19:33.419190",
     "status": "completed"
    },
    "tags": []
   },
   "source": [
    "Take another look at the \"Country\" column and see if there's any more data cleaning we need to do.\n",
    "\n",
    "It looks like 'usa' and 'usofa' should be the same country.  Correct the \"Country\" column in the dataframe so that 'usofa' appears instead as 'usa'.\n",
    "\n",
    "**Use the most recent version of the DataFrame (with the whitespaces at the beginning and end of cells removed) from question 2.**"
   ]
  },
  {
   "cell_type": "code",
   "execution_count": 10,
   "id": "c9d98dc2",
   "metadata": {
    "execution": {
     "iopub.execute_input": "2021-08-08T08:19:33.470357Z",
     "iopub.status.busy": "2021-08-08T08:19:33.469433Z",
     "iopub.status.idle": "2021-08-08T08:19:33.482567Z",
     "shell.execute_reply": "2021-08-08T08:19:33.483151Z",
     "shell.execute_reply.started": "2021-08-06T15:57:24.866175Z"
    },
    "papermill": {
     "duration": 0.032438,
     "end_time": "2021-08-08T08:19:33.483344",
     "exception": false,
     "start_time": "2021-08-08T08:19:33.450906",
     "status": "completed"
    },
    "tags": []
   },
   "outputs": [
    {
     "name": "stdout",
     "output_type": "stream",
     "text": [
      "All done!\n"
     ]
    },
    {
     "data": {
      "application/javascript": [
       "parent.postMessage({\"jupyterEvent\": \"custom.exercise_interaction\", \"data\": {\"outcomeType\": 1, \"valueTowardsCompletion\": 0.3333333333333333, \"interactionType\": 1, \"questionType\": 1, \"questionId\": \"3_WorkingWithCities\", \"learnToolsVersion\": \"0.3.4\", \"failureMessage\": \"\", \"exceptionClass\": \"\", \"trace\": \"\"}}, \"*\")"
      ],
      "text/plain": [
       "<IPython.core.display.Javascript object>"
      ]
     },
     "metadata": {},
     "output_type": "display_data"
    },
    {
     "data": {
      "text/markdown": [
       "<span style=\"color:#33cc33\">Correct</span>"
      ],
      "text/plain": [
       "Correct"
      ]
     },
     "metadata": {},
     "output_type": "display_data"
    }
   ],
   "source": [
    "# TODO: Your code here!\n",
    "\n",
    "\n",
    "matches = fuzzywuzzy.process.extract(\"usa\", countries, limit=10, scorer=fuzzywuzzy.fuzz.token_sort_ratio)\n",
    "replace_matches_in_column(df=professors, column='Country', string_to_match=\"usa\", min_ratio=70)\n",
    "\n",
    "\n",
    "\n",
    "# Check your answer\n",
    "q3.check()"
   ]
  },
  {
   "cell_type": "code",
   "execution_count": 11,
   "id": "9c34e957",
   "metadata": {
    "execution": {
     "iopub.execute_input": "2021-08-08T08:19:33.520444Z",
     "iopub.status.busy": "2021-08-08T08:19:33.519869Z",
     "iopub.status.idle": "2021-08-08T08:19:33.525435Z",
     "shell.execute_reply": "2021-08-08T08:19:33.525915Z",
     "shell.execute_reply.started": "2021-08-06T15:56:40.887277Z"
    },
    "papermill": {
     "duration": 0.025574,
     "end_time": "2021-08-08T08:19:33.526094",
     "exception": false,
     "start_time": "2021-08-08T08:19:33.500520",
     "status": "completed"
    },
    "tags": []
   },
   "outputs": [
    {
     "data": {
      "application/javascript": [
       "parent.postMessage({\"jupyterEvent\": \"custom.exercise_interaction\", \"data\": {\"interactionType\": 3, \"questionType\": 1, \"questionId\": \"3_WorkingWithCities\", \"learnToolsVersion\": \"0.3.4\", \"valueTowardsCompletion\": 0.0, \"failureMessage\": \"\", \"exceptionClass\": \"\", \"trace\": \"\", \"outcomeType\": 4}}, \"*\")"
      ],
      "text/plain": [
       "<IPython.core.display.Javascript object>"
      ]
     },
     "metadata": {},
     "output_type": "display_data"
    },
    {
     "data": {
      "text/markdown": [
       "<span style=\"color:#33cc99\">Solution:</span> \n",
       "```python\n",
       "matches = fuzzywuzzy.process.extract(\"usa\", countries, limit=10, scorer=fuzzywuzzy.fuzz.token_sort_ratio)\n",
       "replace_matches_in_column(df=professors, column='Country', string_to_match=\"usa\", min_ratio=70)\n",
       "\n",
       "```"
      ],
      "text/plain": [
       "Solution: \n",
       "```python\n",
       "matches = fuzzywuzzy.process.extract(\"usa\", countries, limit=10, scorer=fuzzywuzzy.fuzz.token_sort_ratio)\n",
       "replace_matches_in_column(df=professors, column='Country', string_to_match=\"usa\", min_ratio=70)\n",
       "\n",
       "```"
      ]
     },
     "metadata": {},
     "output_type": "display_data"
    }
   ],
   "source": [
    "# Lines below will give you a hint or solution code\n",
    "#q3.hint()\n",
    "q3.solution()"
   ]
  },
  {
   "cell_type": "markdown",
   "id": "1ba45e13",
   "metadata": {
    "papermill": {
     "duration": 0.01725,
     "end_time": "2021-08-08T08:19:33.562043",
     "exception": false,
     "start_time": "2021-08-08T08:19:33.544793",
     "status": "completed"
    },
    "tags": []
   },
   "source": [
    "# Congratulations!\n",
    "\n",
    "Congratulations for completing the **Data Cleaning** course on Kaggle Learn!\n",
    "\n",
    "To practice your new skills, you're encouraged to download and investigate some of [Kaggle's Datasets](https://www.kaggle.com/datasets)."
   ]
  },
  {
   "cell_type": "markdown",
   "id": "32822283",
   "metadata": {
    "papermill": {
     "duration": 0.017183,
     "end_time": "2021-08-08T08:19:33.597308",
     "exception": false,
     "start_time": "2021-08-08T08:19:33.580125",
     "status": "completed"
    },
    "tags": []
   },
   "source": [
    "---\n",
    "\n",
    "\n",
    "\n",
    "\n",
    "*Have questions or comments? Visit the [Learn Discussion forum](https://www.kaggle.com/learn-forum/172650) to chat with other Learners.*"
   ]
  }
 ],
 "metadata": {
  "kernelspec": {
   "display_name": "Python 3",
   "language": "python",
   "name": "python3"
  },
  "language_info": {
   "codemirror_mode": {
    "name": "ipython",
    "version": 3
   },
   "file_extension": ".py",
   "mimetype": "text/x-python",
   "name": "python",
   "nbconvert_exporter": "python",
   "pygments_lexer": "ipython3",
   "version": "3.7.10"
  },
  "papermill": {
   "default_parameters": {},
   "duration": 9.77893,
   "end_time": "2021-08-08T08:19:35.153321",
   "environment_variables": {},
   "exception": null,
   "input_path": "__notebook__.ipynb",
   "output_path": "__notebook__.ipynb",
   "parameters": {},
   "start_time": "2021-08-08T08:19:25.374391",
   "version": "2.3.3"
  }
 },
 "nbformat": 4,
 "nbformat_minor": 5
}
