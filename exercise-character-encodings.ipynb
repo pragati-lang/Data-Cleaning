{
 "cells": [
  {
   "cell_type": "markdown",
   "id": "f3e4d9f6",
   "metadata": {
    "papermill": {
     "duration": 0.015014,
     "end_time": "2021-08-08T10:04:50.029955",
     "exception": false,
     "start_time": "2021-08-08T10:04:50.014941",
     "status": "completed"
    },
    "tags": []
   },
   "source": [
    "**This notebook is an exercise in the [Data Cleaning](https://www.kaggle.com/learn/data-cleaning) course.  You can reference the tutorial at [this link](https://www.kaggle.com/alexisbcook/character-encodings).**\n",
    "\n",
    "---\n"
   ]
  },
  {
   "cell_type": "markdown",
   "id": "caa8fdb1",
   "metadata": {
    "papermill": {
     "duration": 0.013387,
     "end_time": "2021-08-08T10:04:50.057628",
     "exception": false,
     "start_time": "2021-08-08T10:04:50.044241",
     "status": "completed"
    },
    "tags": []
   },
   "source": [
    "In this exercise, you'll apply what you learned in the **Character encodings** tutorial.\n",
    "\n",
    "# Setup\n",
    "\n",
    "The questions below will give you feedback on your work. Run the following cell to set up the feedback system."
   ]
  },
  {
   "cell_type": "code",
   "execution_count": 1,
   "id": "f882eeab",
   "metadata": {
    "execution": {
     "iopub.execute_input": "2021-08-08T10:04:50.089194Z",
     "iopub.status.busy": "2021-08-08T10:04:50.088012Z",
     "iopub.status.idle": "2021-08-08T10:04:50.281603Z",
     "shell.execute_reply": "2021-08-08T10:04:50.280734Z",
     "shell.execute_reply.started": "2021-08-06T15:44:16.608967Z"
    },
    "papermill": {
     "duration": 0.210432,
     "end_time": "2021-08-08T10:04:50.281787",
     "exception": false,
     "start_time": "2021-08-08T10:04:50.071355",
     "status": "completed"
    },
    "tags": []
   },
   "outputs": [
    {
     "name": "stdout",
     "output_type": "stream",
     "text": [
      "Setup Complete\n"
     ]
    }
   ],
   "source": [
    "from learntools.core import binder\n",
    "binder.bind(globals())\n",
    "from learntools.data_cleaning.ex4 import *\n",
    "print(\"Setup Complete\")"
   ]
  },
  {
   "cell_type": "markdown",
   "id": "3d6f4306",
   "metadata": {
    "papermill": {
     "duration": 0.015417,
     "end_time": "2021-08-08T10:04:50.313841",
     "exception": false,
     "start_time": "2021-08-08T10:04:50.298424",
     "status": "completed"
    },
    "tags": []
   },
   "source": [
    "# Get our environment set up\n",
    "\n",
    "The first thing we'll need to do is load in the libraries we'll be using."
   ]
  },
  {
   "cell_type": "code",
   "execution_count": 2,
   "id": "6a3f8712",
   "metadata": {
    "execution": {
     "iopub.execute_input": "2021-08-08T10:04:50.348248Z",
     "iopub.status.busy": "2021-08-08T10:04:50.347521Z",
     "iopub.status.idle": "2021-08-08T10:04:50.350067Z",
     "shell.execute_reply": "2021-08-08T10:04:50.350600Z",
     "shell.execute_reply.started": "2021-08-06T15:44:51.048074Z"
    },
    "papermill": {
     "duration": 0.022671,
     "end_time": "2021-08-08T10:04:50.350788",
     "exception": false,
     "start_time": "2021-08-08T10:04:50.328117",
     "status": "completed"
    },
    "tags": []
   },
   "outputs": [],
   "source": [
    "# modules we'll use\n",
    "import pandas as pd\n",
    "import numpy as np\n",
    "\n",
    "# helpful character encoding module\n",
    "import chardet\n",
    "\n",
    "# set seed for reproducibility\n",
    "np.random.seed(0)"
   ]
  },
  {
   "cell_type": "markdown",
   "id": "00d841ab",
   "metadata": {
    "papermill": {
     "duration": 0.013801,
     "end_time": "2021-08-08T10:04:50.379386",
     "exception": false,
     "start_time": "2021-08-08T10:04:50.365585",
     "status": "completed"
    },
    "tags": []
   },
   "source": [
    "# 1) What are encodings?\n",
    "\n",
    "You're working with a dataset composed of bytes.  Run the code cell below to print a sample entry."
   ]
  },
  {
   "cell_type": "code",
   "execution_count": 3,
   "id": "7d679400",
   "metadata": {
    "execution": {
     "iopub.execute_input": "2021-08-08T10:04:50.413725Z",
     "iopub.status.busy": "2021-08-08T10:04:50.412775Z",
     "iopub.status.idle": "2021-08-08T10:04:50.416778Z",
     "shell.execute_reply": "2021-08-08T10:04:50.416075Z",
     "shell.execute_reply.started": "2021-08-06T15:45:00.738864Z"
    },
    "papermill": {
     "duration": 0.023384,
     "end_time": "2021-08-08T10:04:50.416938",
     "exception": false,
     "start_time": "2021-08-08T10:04:50.393554",
     "status": "completed"
    },
    "tags": []
   },
   "outputs": [
    {
     "name": "stdout",
     "output_type": "stream",
     "text": [
      "b'\\xa7A\\xa6n'\n",
      "data type: <class 'bytes'>\n"
     ]
    }
   ],
   "source": [
    "sample_entry = b'\\xa7A\\xa6n'\n",
    "print(sample_entry)\n",
    "print('data type:', type(sample_entry))"
   ]
  },
  {
   "cell_type": "markdown",
   "id": "b482b1c3",
   "metadata": {
    "papermill": {
     "duration": 0.019242,
     "end_time": "2021-08-08T10:04:50.450897",
     "exception": false,
     "start_time": "2021-08-08T10:04:50.431655",
     "status": "completed"
    },
    "tags": []
   },
   "source": [
    "You notice that it doesn't use the standard UTF-8 encoding. \n",
    "\n",
    "Use the next code cell to create a variable `new_entry` that changes the encoding from `\"big5-tw\"` to `\"utf-8\"`.  `new_entry` should have the bytes datatype."
   ]
  },
  {
   "cell_type": "code",
   "execution_count": 4,
   "id": "a510778a",
   "metadata": {
    "execution": {
     "iopub.execute_input": "2021-08-08T10:04:50.491670Z",
     "iopub.status.busy": "2021-08-08T10:04:50.490845Z",
     "iopub.status.idle": "2021-08-08T10:04:50.496276Z",
     "shell.execute_reply": "2021-08-08T10:04:50.496801Z",
     "shell.execute_reply.started": "2021-08-06T15:47:58.518012Z"
    },
    "papermill": {
     "duration": 0.028958,
     "end_time": "2021-08-08T10:04:50.496980",
     "exception": false,
     "start_time": "2021-08-08T10:04:50.468022",
     "status": "completed"
    },
    "tags": []
   },
   "outputs": [
    {
     "data": {
      "application/javascript": [
       "parent.postMessage({\"jupyterEvent\": \"custom.exercise_interaction\", \"data\": {\"outcomeType\": 1, \"valueTowardsCompletion\": 0.3333333333333333, \"interactionType\": 1, \"questionType\": 1, \"questionId\": \"1_EncodingsIntro\", \"learnToolsVersion\": \"0.3.4\", \"failureMessage\": \"\", \"exceptionClass\": \"\", \"trace\": \"\"}}, \"*\")"
      ],
      "text/plain": [
       "<IPython.core.display.Javascript object>"
      ]
     },
     "metadata": {},
     "output_type": "display_data"
    },
    {
     "data": {
      "text/markdown": [
       "<span style=\"color:#33cc33\">Correct</span>"
      ],
      "text/plain": [
       "Correct"
      ]
     },
     "metadata": {},
     "output_type": "display_data"
    }
   ],
   "source": [
    "\n",
    "\n",
    "before = sample_entry.decode(\"big5-tw\")\n",
    "new_entry = before.encode()\n",
    "\n",
    "\n",
    "# Check your answer\n",
    "q1.check()"
   ]
  },
  {
   "cell_type": "code",
   "execution_count": 5,
   "id": "1cac94fb",
   "metadata": {
    "execution": {
     "iopub.execute_input": "2021-08-08T10:04:50.538161Z",
     "iopub.status.busy": "2021-08-08T10:04:50.537034Z",
     "iopub.status.idle": "2021-08-08T10:04:50.552606Z",
     "shell.execute_reply": "2021-08-08T10:04:50.553089Z",
     "shell.execute_reply.started": "2021-08-06T15:47:17.527812Z"
    },
    "papermill": {
     "duration": 0.039381,
     "end_time": "2021-08-08T10:04:50.553274",
     "exception": false,
     "start_time": "2021-08-08T10:04:50.513893",
     "status": "completed"
    },
    "tags": []
   },
   "outputs": [
    {
     "data": {
      "application/javascript": [
       "parent.postMessage({\"jupyterEvent\": \"custom.exercise_interaction\", \"data\": {\"interactionType\": 2, \"questionType\": 1, \"questionId\": \"1_EncodingsIntro\", \"learnToolsVersion\": \"0.3.4\", \"valueTowardsCompletion\": 0.0, \"failureMessage\": \"\", \"exceptionClass\": \"\", \"trace\": \"\", \"outcomeType\": 4}}, \"*\")"
      ],
      "text/plain": [
       "<IPython.core.display.Javascript object>"
      ]
     },
     "metadata": {},
     "output_type": "display_data"
    },
    {
     "data": {
      "text/markdown": [
       "<span style=\"color:#3366cc\">Hint:</span> Try using `.decode()` to get the string, then `.encode()` to get the bytes representation, encoded in UTF-8."
      ],
      "text/plain": [
       "Hint: Try using `.decode()` to get the string, then `.encode()` to get the bytes representation, encoded in UTF-8."
      ]
     },
     "metadata": {},
     "output_type": "display_data"
    },
    {
     "data": {
      "application/javascript": [
       "parent.postMessage({\"jupyterEvent\": \"custom.exercise_interaction\", \"data\": {\"interactionType\": 3, \"questionType\": 1, \"questionId\": \"1_EncodingsIntro\", \"learnToolsVersion\": \"0.3.4\", \"valueTowardsCompletion\": 0.0, \"failureMessage\": \"\", \"exceptionClass\": \"\", \"trace\": \"\", \"outcomeType\": 4}}, \"*\")"
      ],
      "text/plain": [
       "<IPython.core.display.Javascript object>"
      ]
     },
     "metadata": {},
     "output_type": "display_data"
    },
    {
     "data": {
      "text/markdown": [
       "<span style=\"color:#33cc99\">Solution:</span> \n",
       "```python\n",
       "before = sample_entry.decode(\"big5-tw\")\n",
       "new_entry = before.encode()\n",
       "\n",
       "```"
      ],
      "text/plain": [
       "Solution: \n",
       "```python\n",
       "before = sample_entry.decode(\"big5-tw\")\n",
       "new_entry = before.encode()\n",
       "\n",
       "```"
      ]
     },
     "metadata": {},
     "output_type": "display_data"
    }
   ],
   "source": [
    "# Lines below will give you a hint or solution code\n",
    "q1.hint()\n",
    "q1.solution()"
   ]
  },
  {
   "cell_type": "markdown",
   "id": "59ee36f0",
   "metadata": {
    "papermill": {
     "duration": 0.019397,
     "end_time": "2021-08-08T10:04:50.594305",
     "exception": false,
     "start_time": "2021-08-08T10:04:50.574908",
     "status": "completed"
    },
    "tags": []
   },
   "source": [
    "# 2) Reading in files with encoding problems\n",
    "\n",
    "Use the code cell below to read in this file at path `\"../input/fatal-police-shootings-in-the-us/PoliceKillingsUS.csv\"`.  \n",
    "\n",
    "Figure out what the correct encoding should be and read in the file to a DataFrame `police_killings`."
   ]
  },
  {
   "cell_type": "code",
   "execution_count": 6,
   "id": "bdb119b1",
   "metadata": {
    "execution": {
     "iopub.execute_input": "2021-08-08T10:04:50.643163Z",
     "iopub.status.busy": "2021-08-08T10:04:50.642152Z",
     "iopub.status.idle": "2021-08-08T10:04:50.670968Z",
     "shell.execute_reply": "2021-08-08T10:04:50.671494Z",
     "shell.execute_reply.started": "2021-08-06T15:49:47.858246Z"
    },
    "papermill": {
     "duration": 0.052437,
     "end_time": "2021-08-08T10:04:50.671672",
     "exception": false,
     "start_time": "2021-08-08T10:04:50.619235",
     "status": "completed"
    },
    "tags": []
   },
   "outputs": [
    {
     "data": {
      "application/javascript": [
       "parent.postMessage({\"jupyterEvent\": \"custom.exercise_interaction\", \"data\": {\"outcomeType\": 1, \"valueTowardsCompletion\": 0.3333333333333333, \"interactionType\": 1, \"questionType\": 1, \"questionId\": \"2_ReadIn\", \"learnToolsVersion\": \"0.3.4\", \"failureMessage\": \"\", \"exceptionClass\": \"\", \"trace\": \"\"}}, \"*\")"
      ],
      "text/plain": [
       "<IPython.core.display.Javascript object>"
      ]
     },
     "metadata": {},
     "output_type": "display_data"
    },
    {
     "data": {
      "text/markdown": [
       "<span style=\"color:#33cc33\">Correct</span>"
      ],
      "text/plain": [
       "Correct"
      ]
     },
     "metadata": {},
     "output_type": "display_data"
    }
   ],
   "source": [
    "# TODO: Load in the DataFrame correctly.\n",
    "police_killings = pd.read_csv(\"../input/fatal-police-shootings-in-the-us/PoliceKillingsUS.csv\", encoding='Windows-1252')\n",
    "\n",
    "# Check your answer\n",
    "q2.check()"
   ]
  },
  {
   "cell_type": "markdown",
   "id": "f85daefc",
   "metadata": {
    "papermill": {
     "duration": 0.017794,
     "end_time": "2021-08-08T10:04:50.707843",
     "exception": false,
     "start_time": "2021-08-08T10:04:50.690049",
     "status": "completed"
    },
    "tags": []
   },
   "source": [
    "Feel free to use any additional code cells for supplemental work.  To get credit for finishing this question, you'll need to run `q2.check()` and get a result of **Correct**."
   ]
  },
  {
   "cell_type": "code",
   "execution_count": 7,
   "id": "4713574e",
   "metadata": {
    "execution": {
     "iopub.execute_input": "2021-08-08T10:04:50.747240Z",
     "iopub.status.busy": "2021-08-08T10:04:50.746633Z",
     "iopub.status.idle": "2021-08-08T10:04:50.751483Z",
     "shell.execute_reply": "2021-08-08T10:04:50.750831Z",
     "shell.execute_reply.started": "2021-08-06T15:49:59.897822Z"
    },
    "papermill": {
     "duration": 0.025557,
     "end_time": "2021-08-08T10:04:50.751631",
     "exception": false,
     "start_time": "2021-08-08T10:04:50.726074",
     "status": "completed"
    },
    "tags": []
   },
   "outputs": [],
   "source": [
    "# (Optional) Use this code cell for any additional work."
   ]
  },
  {
   "cell_type": "code",
   "execution_count": 8,
   "id": "ecb103a8",
   "metadata": {
    "execution": {
     "iopub.execute_input": "2021-08-08T10:04:50.792026Z",
     "iopub.status.busy": "2021-08-08T10:04:50.791293Z",
     "iopub.status.idle": "2021-08-08T10:04:50.800852Z",
     "shell.execute_reply": "2021-08-08T10:04:50.801301Z",
     "shell.execute_reply.started": "2021-08-06T15:48:58.899001Z"
    },
    "papermill": {
     "duration": 0.031366,
     "end_time": "2021-08-08T10:04:50.801513",
     "exception": false,
     "start_time": "2021-08-08T10:04:50.770147",
     "status": "completed"
    },
    "tags": []
   },
   "outputs": [
    {
     "data": {
      "application/javascript": [
       "parent.postMessage({\"jupyterEvent\": \"custom.exercise_interaction\", \"data\": {\"interactionType\": 2, \"questionType\": 1, \"questionId\": \"2_ReadIn\", \"learnToolsVersion\": \"0.3.4\", \"valueTowardsCompletion\": 0.0, \"failureMessage\": \"\", \"exceptionClass\": \"\", \"trace\": \"\", \"outcomeType\": 4}}, \"*\")"
      ],
      "text/plain": [
       "<IPython.core.display.Javascript object>"
      ]
     },
     "metadata": {},
     "output_type": "display_data"
    },
    {
     "data": {
      "text/markdown": [
       "<span style=\"color:#3366cc\">Hint:</span> If you try to guess the encoding with the first 10,000 bytes of the file, it might give you the wrong answer.  Try using 100,000 or more lines of the file."
      ],
      "text/plain": [
       "Hint: If you try to guess the encoding with the first 10,000 bytes of the file, it might give you the wrong answer.  Try using 100,000 or more lines of the file."
      ]
     },
     "metadata": {},
     "output_type": "display_data"
    },
    {
     "data": {
      "application/javascript": [
       "parent.postMessage({\"jupyterEvent\": \"custom.exercise_interaction\", \"data\": {\"interactionType\": 3, \"questionType\": 1, \"questionId\": \"2_ReadIn\", \"learnToolsVersion\": \"0.3.4\", \"valueTowardsCompletion\": 0.0, \"failureMessage\": \"\", \"exceptionClass\": \"\", \"trace\": \"\", \"outcomeType\": 4}}, \"*\")"
      ],
      "text/plain": [
       "<IPython.core.display.Javascript object>"
      ]
     },
     "metadata": {},
     "output_type": "display_data"
    },
    {
     "data": {
      "text/markdown": [
       "<span style=\"color:#33cc99\">Solution:</span> \n",
       "```python\n",
       "police_killings = pd.read_csv(\"../input/fatal-police-shootings-in-the-us/PoliceKillingsUS.csv\", encoding='Windows-1252')\n",
       "\n",
       "```"
      ],
      "text/plain": [
       "Solution: \n",
       "```python\n",
       "police_killings = pd.read_csv(\"../input/fatal-police-shootings-in-the-us/PoliceKillingsUS.csv\", encoding='Windows-1252')\n",
       "\n",
       "```"
      ]
     },
     "metadata": {},
     "output_type": "display_data"
    }
   ],
   "source": [
    "# Lines below will give you a hint or solution code\n",
    "q2.hint()\n",
    "q2.solution()"
   ]
  },
  {
   "cell_type": "markdown",
   "id": "302ad917",
   "metadata": {
    "papermill": {
     "duration": 0.020242,
     "end_time": "2021-08-08T10:04:50.842843",
     "exception": false,
     "start_time": "2021-08-08T10:04:50.822601",
     "status": "completed"
    },
    "tags": []
   },
   "source": [
    "# 3) Saving your files with UTF-8 encoding\n",
    "\n",
    "Save a version of the police killings dataset to CSV with UTF-8 encoding.  Your answer will be marked correct after saving this file.  \n",
    "\n",
    "Note: When using the `to_csv()` method, supply only the name of the file (e.g., `\"my_file.csv\"`).  This saves the file at the filepath `\"/kaggle/working/my_file.csv\"`."
   ]
  },
  {
   "cell_type": "code",
   "execution_count": 9,
   "id": "d011e65d",
   "metadata": {
    "execution": {
     "iopub.execute_input": "2021-08-08T10:04:50.887263Z",
     "iopub.status.busy": "2021-08-08T10:04:50.886588Z",
     "iopub.status.idle": "2021-08-08T10:04:50.931525Z",
     "shell.execute_reply": "2021-08-08T10:04:50.932126Z",
     "shell.execute_reply.started": "2021-08-06T15:50:46.927886Z"
    },
    "papermill": {
     "duration": 0.0692,
     "end_time": "2021-08-08T10:04:50.932308",
     "exception": false,
     "start_time": "2021-08-08T10:04:50.863108",
     "status": "completed"
    },
    "tags": []
   },
   "outputs": [
    {
     "data": {
      "application/javascript": [
       "parent.postMessage({\"jupyterEvent\": \"custom.exercise_interaction\", \"data\": {\"outcomeType\": 1, \"valueTowardsCompletion\": 0.3333333333333333, \"interactionType\": 1, \"questionType\": 2, \"questionId\": \"3_SaveCSV\", \"learnToolsVersion\": \"0.3.4\", \"failureMessage\": \"\", \"exceptionClass\": \"\", \"trace\": \"\"}}, \"*\")"
      ],
      "text/plain": [
       "<IPython.core.display.Javascript object>"
      ]
     },
     "metadata": {},
     "output_type": "display_data"
    },
    {
     "data": {
      "text/markdown": [
       "<span style=\"color:#33cc33\">Correct</span>"
      ],
      "text/plain": [
       "Correct"
      ]
     },
     "metadata": {},
     "output_type": "display_data"
    }
   ],
   "source": [
    "# TODO: Save the police killings dataset to CSV\n",
    "police_killings.to_csv(\"my_file.csv\")\n",
    "# Check your answer\n",
    "q3.check()"
   ]
  },
  {
   "cell_type": "code",
   "execution_count": 10,
   "id": "e9d4e960",
   "metadata": {
    "execution": {
     "iopub.execute_input": "2021-08-08T10:04:50.980793Z",
     "iopub.status.busy": "2021-08-08T10:04:50.980116Z",
     "iopub.status.idle": "2021-08-08T10:04:50.986589Z",
     "shell.execute_reply": "2021-08-08T10:04:50.987088Z",
     "shell.execute_reply.started": "2021-08-06T15:50:13.817759Z"
    },
    "papermill": {
     "duration": 0.031138,
     "end_time": "2021-08-08T10:04:50.987267",
     "exception": false,
     "start_time": "2021-08-08T10:04:50.956129",
     "status": "completed"
    },
    "tags": []
   },
   "outputs": [
    {
     "data": {
      "application/javascript": [
       "parent.postMessage({\"jupyterEvent\": \"custom.exercise_interaction\", \"data\": {\"interactionType\": 3, \"questionType\": 2, \"questionId\": \"3_SaveCSV\", \"learnToolsVersion\": \"0.3.4\", \"valueTowardsCompletion\": 0.0, \"failureMessage\": \"\", \"exceptionClass\": \"\", \"trace\": \"\", \"outcomeType\": 4}}, \"*\")"
      ],
      "text/plain": [
       "<IPython.core.display.Javascript object>"
      ]
     },
     "metadata": {},
     "output_type": "display_data"
    },
    {
     "data": {
      "text/markdown": [
       "<span style=\"color:#33cc99\">Solution:</span> \n",
       "```python\n",
       "\n",
       "police_killings.to_csv(\"my_file.csv\")\n",
       "\n",
       "```"
      ],
      "text/plain": [
       "Solution: \n",
       "```python\n",
       "\n",
       "police_killings.to_csv(\"my_file.csv\")\n",
       "\n",
       "```"
      ]
     },
     "metadata": {},
     "output_type": "display_data"
    }
   ],
   "source": [
    "# Lines below will give you a hint or solution code\n",
    "#q3.hint()\n",
    "q3.solution()"
   ]
  },
  {
   "cell_type": "markdown",
   "id": "66199b16",
   "metadata": {
    "papermill": {
     "duration": 0.02338,
     "end_time": "2021-08-08T10:04:51.034436",
     "exception": false,
     "start_time": "2021-08-08T10:04:51.011056",
     "status": "completed"
    },
    "tags": []
   },
   "source": [
    "# (Optional) More practice\n",
    "\n",
    "Check out [this dataset of files in different character encodings](https://www.kaggle.com/rtatman/character-encoding-examples). Can you read in all the files with their original encodings and them save them out as UTF-8 files?\n",
    "\n",
    "If you have a file that's in UTF-8 but has just a couple of weird-looking characters in it, you can try out the [ftfy module](https://ftfy.readthedocs.io/en/latest/#) and see if it helps. \n",
    "\n",
    "# Keep going\n",
    "\n",
    "In the final lesson, learn how to [**clean up inconsistent text entries**](https://www.kaggle.com/alexisbcook/inconsistent-data-entry) in your dataset."
   ]
  },
  {
   "cell_type": "markdown",
   "id": "a87e1abb",
   "metadata": {
    "papermill": {
     "duration": 0.022164,
     "end_time": "2021-08-08T10:04:51.079285",
     "exception": false,
     "start_time": "2021-08-08T10:04:51.057121",
     "status": "completed"
    },
    "tags": []
   },
   "source": [
    "---\n",
    "\n",
    "\n",
    "\n",
    "\n",
    "*Have questions or comments? Visit the [Learn Discussion forum](https://www.kaggle.com/learn-forum/172650) to chat with other Learners.*"
   ]
  }
 ],
 "metadata": {
  "kernelspec": {
   "display_name": "Python 3",
   "language": "python",
   "name": "python3"
  },
  "language_info": {
   "codemirror_mode": {
    "name": "ipython",
    "version": 3
   },
   "file_extension": ".py",
   "mimetype": "text/x-python",
   "name": "python",
   "nbconvert_exporter": "python",
   "pygments_lexer": "ipython3",
   "version": "3.7.10"
  },
  "papermill": {
   "default_parameters": {},
   "duration": 10.438255,
   "end_time": "2021-08-08T10:04:51.712113",
   "environment_variables": {},
   "exception": null,
   "input_path": "__notebook__.ipynb",
   "output_path": "__notebook__.ipynb",
   "parameters": {},
   "start_time": "2021-08-08T10:04:41.273858",
   "version": "2.3.3"
  }
 },
 "nbformat": 4,
 "nbformat_minor": 5
}
